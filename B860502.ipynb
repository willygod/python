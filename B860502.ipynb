{
 "cells": [
  {
   "cell_type": "markdown",
   "metadata": {},
   "source": [
    "#流程控制\n"
   ]
  },
  {
   "cell_type": "code",
   "execution_count": 5,
   "metadata": {},
   "outputs": [
    {
     "name": "stdout",
     "output_type": "stream",
     "text": [
      "請輸入攝氏溫度:20\n",
      "華氏溫度為: 68.0\n"
     ]
    }
   ],
   "source": [
    "celsius = float(input('請輸入攝氏溫度:'))\n",
    "fahrenheit = (9/5)*celsius +32\n",
    "print('華氏溫度為:',fahrenheit)"
   ]
  },
  {
   "cell_type": "code",
   "execution_count": 4,
   "metadata": {},
   "outputs": [
    {
     "name": "stdout",
     "output_type": "stream",
     "text": [
      "樣本= [5, 8, 9, 6, 4, 1, 2, 3, 5, 6]\n",
      "平均數= 4.9\n",
      "最大數= 9\n",
      "最小數= 1\n",
      "變異數= 6.32\n",
      "標準差= 2.51\n"
     ]
    }
   ],
   "source": [
    "import statistics as st\n",
    "sample = [5,8,9,6,4,1,2,3,5,6]\n",
    "print('樣本=' ,sample)\n",
    "print('平均數=',st.mean(sample))\n",
    "print('最大數=',max(sample))\n",
    "print('最小數=',min(sample))\n",
    "print('變異數=',round(st.variance(sample),2))\n",
    "print('標準差=',round(st.stdev(sample),2))"
   ]
  },
  {
   "cell_type": "code",
   "execution_count": 13,
   "metadata": {},
   "outputs": [
    {
     "name": "stdout",
     "output_type": "stream",
     "text": [
      "請輸入numA:4\n",
      "請輸入numB:3\n",
      "numA是比較大的數\n"
     ]
    }
   ],
   "source": [
    "numA = int(input('請輸入numA:'))\n",
    "numB = int(input('請輸入numB:'))\n",
    "if numA < numB:\n",
    "    print('numB是比較大的數')\n",
    "elif numA > numB:\n",
    "    print('numA是比較大的數')\n",
    "else:\n",
    "    print('numA跟numB相同大小')"
   ]
  },
  {
   "cell_type": "markdown",
   "metadata": {},
   "source": [
    "#for 迴圈"
   ]
  },
  {
   "cell_type": "code",
   "execution_count": 15,
   "metadata": {},
   "outputs": [
    {
     "name": "stdout",
     "output_type": "stream",
     "text": [
      "總和: 55\n"
     ]
    }
   ],
   "source": [
    "sum = 0\n",
    "for i in range(1,11):\n",
    "    sum = sum + i\n",
    "print('總和:',sum)"
   ]
  },
  {
   "cell_type": "code",
   "execution_count": 17,
   "metadata": {},
   "outputs": [
    {
     "name": "stdout",
     "output_type": "stream",
     "text": [
      "總和: 49\n"
     ]
    }
   ],
   "source": [
    "sample = [5,8,9,6,4,1,2,3,5,6]\n",
    "sum = 0\n",
    "for i in sample:\n",
    "    sum = sum + i\n",
    "print('總和:',sum)"
   ]
  },
  {
   "cell_type": "markdown",
   "metadata": {},
   "source": [
    "in-class exercise 隨堂練習\n",
    "雞兔同籠問題進行求解，若共有35個頭，94隻腳，問共有多少隻兔子?幾隻雞?\n"
   ]
  },
  {
   "cell_type": "code",
   "execution_count": 18,
   "metadata": {},
   "outputs": [
    {
     "name": "stdout",
     "output_type": "stream",
     "text": [
      "兔子有 12 隻\n",
      "雞有 23 隻\n"
     ]
    }
   ],
   "source": [
    "head = 35\n",
    "leg = 94\n",
    "for rabbit in range(0,head+1):\n",
    "    chicken = head - rabbit\n",
    "    if((rabbit*4 + chicken*2) == 94):\n",
    "        print('兔子有',rabbit, '隻')\n",
    "        print('雞有', chicken, '隻')"
   ]
  },
  {
   "cell_type": "code",
   "execution_count": 19,
   "metadata": {},
   "outputs": [
    {
     "name": "stdout",
     "output_type": "stream",
     "text": [
      "I\n",
      " \n",
      "l\n",
      "o\n",
      "v\n",
      "e\n",
      " \n",
      "A\n",
      "v\n",
      "e\n",
      "n\n",
      "g\n",
      "e\n",
      "r\n",
      "s\n",
      " \n",
      "I\n",
      "V\n"
     ]
    }
   ],
   "source": [
    "mylist = 'I love Avengers IV'\n",
    "for character in mylist:\n",
    "    print(character)"
   ]
  },
  {
   "cell_type": "code",
   "execution_count": null,
   "metadata": {},
   "outputs": [],
   "source": []
  }
 ],
 "metadata": {
  "kernelspec": {
   "display_name": "Python 3",
   "language": "python",
   "name": "python3"
  },
  "language_info": {
   "codemirror_mode": {
    "name": "ipython",
    "version": 3
   },
   "file_extension": ".py",
   "mimetype": "text/x-python",
   "name": "python",
   "nbconvert_exporter": "python",
   "pygments_lexer": "ipython3",
   "version": "3.7.1"
  }
 },
 "nbformat": 4,
 "nbformat_minor": 2
}
