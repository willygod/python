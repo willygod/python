{
 "cells": [
  {
   "cell_type": "markdown",
   "metadata": {},
   "source": [
    "while 迴圈\n",
    "\n",
    "1+2+3+....+10的總和"
   ]
  },
  {
   "cell_type": "code",
   "execution_count": 2,
   "metadata": {},
   "outputs": [
    {
     "name": "stdout",
     "output_type": "stream",
     "text": [
      "1+2+3+...+10 =  55\n"
     ]
    }
   ],
   "source": [
    "sum = 0\n",
    "count = 1\n",
    "while count <= 10:\n",
    "    sum = sum + count # sum += count\n",
    "    count += 1 # count = count + 1\n",
    "print('1+2+3+...+10 = ',sum)"
   ]
  },
  {
   "cell_type": "markdown",
   "metadata": {},
   "source": [
    "銀行利息範例"
   ]
  },
  {
   "cell_type": "code",
   "execution_count": 5,
   "metadata": {},
   "outputs": [
    {
     "name": "stdout",
     "output_type": "stream",
     "text": [
      "67 年後，存款金額會增加到20000\n"
     ]
    }
   ],
   "source": [
    "x = 10000\n",
    "year = 0\n",
    "while x < 20000:\n",
    "    year +=1\n",
    "    x += x*0.0104\n",
    "print(str(year),'年後，存款金額會增加到20000')"
   ]
  },
  {
   "cell_type": "markdown",
   "metadata": {},
   "source": [
    "帳號密碼程式"
   ]
  },
  {
   "cell_type": "code",
   "execution_count": 6,
   "metadata": {},
   "outputs": [
    {
     "name": "stdout",
     "output_type": "stream",
     "text": [
      "請輸入帳號:tony\n",
      "請輸入密碼:1234\n",
      "歡迎登入\n"
     ]
    }
   ],
   "source": [
    "id = 'tony'\n",
    "pwd = '1234'\n",
    "\n",
    "while True:\n",
    "    x = input('請輸入帳號:')\n",
    "    y = input('請輸入密碼:')\n",
    "    if(x == id and y == pwd):\n",
    "        print('歡迎登入')\n",
    "        break\n",
    "    else:\n",
    "        Print('帳號/密碼輸入錯誤')\n",
    "    "
   ]
  },
  {
   "cell_type": "markdown",
   "metadata": {},
   "source": [
    "break,continue,pass範例"
   ]
  },
  {
   "cell_type": "code",
   "execution_count": 7,
   "metadata": {},
   "outputs": [
    {
     "name": "stdout",
     "output_type": "stream",
     "text": [
      "C#\n",
      "python\n"
     ]
    }
   ],
   "source": [
    "mylist = ['C#','python','Java','C++']\n",
    "for i in mylist:\n",
    "    if i == 'Java':\n",
    "        break\n",
    "    else:\n",
    "        print(i)"
   ]
  },
  {
   "cell_type": "code",
   "execution_count": 8,
   "metadata": {},
   "outputs": [
    {
     "name": "stdout",
     "output_type": "stream",
     "text": [
      "C#\n",
      "python\n",
      "C++\n"
     ]
    }
   ],
   "source": [
    "mylist = ['C#','python','Java','C++']\n",
    "for i in mylist:\n",
    "    if i == 'Java':\n",
    "        continue\n",
    "    else:\n",
    "        print(i)"
   ]
  },
  {
   "cell_type": "code",
   "execution_count": 9,
   "metadata": {},
   "outputs": [
    {
     "name": "stdout",
     "output_type": "stream",
     "text": [
      "C#\n",
      "python\n",
      "C++\n"
     ]
    }
   ],
   "source": [
    "mylist = ['C#','python','Java','C++']\n",
    "for i in mylist:\n",
    "    if i == 'Java':\n",
    "        pass\n",
    "    else:\n",
    "        print(i)"
   ]
  },
  {
   "cell_type": "code",
   "execution_count": 12,
   "metadata": {},
   "outputs": [
    {
     "name": "stdout",
     "output_type": "stream",
     "text": [
      "0.12434310542750171\n",
      "0.7606902106632109\n",
      "0.5381105177369672\n",
      "0.8737272418760696\n",
      "0.5431373190128597\n",
      "0.7202629181350452\n",
      "0.0913426908905659\n",
      "0.6902305290993158\n",
      "0.9452738421337978\n",
      "0.6501458722794855\n"
     ]
    }
   ],
   "source": [
    "import random\n",
    "for i in range(0,10):\n",
    "    print(random.random())"
   ]
  },
  {
   "cell_type": "code",
   "execution_count": 13,
   "metadata": {},
   "outputs": [
    {
     "name": "stdout",
     "output_type": "stream",
     "text": [
      "9\n",
      "7\n",
      "3\n",
      "6\n",
      "2\n",
      "1\n",
      "1\n",
      "7\n",
      "1\n",
      "2\n"
     ]
    }
   ],
   "source": [
    "for i in range(0,10):\n",
    "    print(random.randint(1,9))"
   ]
  },
  {
   "cell_type": "code",
   "execution_count": 14,
   "metadata": {},
   "outputs": [
    {
     "name": "stdout",
     "output_type": "stream",
     "text": [
      "請輸入1-99的數字(q離開):q\n",
      "離開遊戲，正確數字是 13\n"
     ]
    }
   ],
   "source": [
    "import random\n",
    "number = random.randint(1,99)\n",
    "while True:\n",
    "    guess = input('請輸入1-99的數字(q離開):')\n",
    "    if guess == 'q':\n",
    "        print('離開遊戲，正確數字是',number)\n",
    "        break\n",
    "    else:\n",
    "        if number == int(guess):\n",
    "            print('恭喜，猜對了')\n",
    "            break\n",
    "        else:\n",
    "            print('猜錯了')"
   ]
  },
  {
   "cell_type": "code",
   "execution_count": null,
   "metadata": {},
   "outputs": [],
   "source": []
  }
 ],
 "metadata": {
  "kernelspec": {
   "display_name": "Python 3",
   "language": "python",
   "name": "python3"
  },
  "language_info": {
   "codemirror_mode": {
    "name": "ipython",
    "version": 3
   },
   "file_extension": ".py",
   "mimetype": "text/x-python",
   "name": "python",
   "nbconvert_exporter": "python",
   "pygments_lexer": "ipython3",
   "version": "3.7.1"
  }
 },
 "nbformat": 4,
 "nbformat_minor": 2
}
