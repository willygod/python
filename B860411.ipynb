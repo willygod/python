{
 "cells": [
  {
   "cell_type": "code",
   "execution_count": null,
   "metadata": {},
   "outputs": [],
   "source": [
    "第一章python加法與註解使用"
   ]
  },
  {
   "cell_type": "code",
   "execution_count": 6,
   "metadata": {},
   "outputs": [
    {
     "name": "stdout",
     "output_type": "stream",
     "text": [
      "8\n"
     ]
    }
   ],
   "source": [
    "'''\n",
    "這是註解1\n",
    "這是註解2\n",
    "'''\n",
    "#這是註解\n",
    "a=3\n",
    "b=5\n",
    "print(a+b)\n"
   ]
  },
  {
   "cell_type": "markdown",
   "metadata": {},
   "source": [
    "x=1\n",
    "y=10\n",
    "x, y = y, x\n",
    "print(x)\n",
    "print(y)"
   ]
  },
  {
   "cell_type": "code",
   "execution_count": 3,
   "metadata": {},
   "outputs": [
    {
     "name": "stdout",
     "output_type": "stream",
     "text": [
      "10\n",
      "1\n"
     ]
    }
   ],
   "source": [
    "x=1 \n",
    "y=10 \n",
    "x, y = y, x \n",
    "print(x) \n",
    "print(y)"
   ]
  },
  {
   "cell_type": "code",
   "execution_count": 4,
   "metadata": {},
   "outputs": [
    {
     "name": "stdout",
     "output_type": "stream",
     "text": [
      "10\n",
      "1\n"
     ]
    }
   ],
   "source": [
    "x=1\n",
    "y=10\n",
    "x=x+y\n",
    "y=x-y\n",
    "x=x-y\n",
    "print(x)\n",
    "print(y)"
   ]
  },
  {
   "cell_type": "code",
   "execution_count": 5,
   "metadata": {},
   "outputs": [
    {
     "name": "stdout",
     "output_type": "stream",
     "text": [
      "3\n",
      "4\n",
      "5\n"
     ]
    }
   ],
   "source": [
    "x,y,z =3,4,5\n",
    "print(x)\n",
    "print(y)\n",
    "print(z)"
   ]
  },
  {
   "cell_type": "code",
   "execution_count": 7,
   "metadata": {},
   "outputs": [
    {
     "name": "stdout",
     "output_type": "stream",
     "text": [
      "4 8 125\n"
     ]
    }
   ],
   "source": [
    "x,y,z=3,4,5\n",
    "x+=1\n",
    "y*=2\n",
    "z**=3\n",
    "print(x,y,z)"
   ]
  },
  {
   "cell_type": "code",
   "execution_count": 8,
   "metadata": {},
   "outputs": [
    {
     "name": "stdout",
     "output_type": "stream",
     "text": [
      "6.0\n"
     ]
    }
   ],
   "source": [
    "import math\n",
    "a=math.sqrt(((3+4+5)/2)*((3+4+5)/2-3)*((3+4+5)/2-4)*((3+4+5)/2-5))\n",
    "print(a)"
   ]
  },
  {
   "cell_type": "code",
   "execution_count": 9,
   "metadata": {},
   "outputs": [
    {
     "name": "stdout",
     "output_type": "stream",
     "text": [
      "6.0\n"
     ]
    }
   ],
   "source": [
    "import math\n",
    "a,b,c=3,4,5\n",
    "s=(a+b+c)/2\n",
    "d=math.sqrt(s*(s-a)*(s-b)*(s-c))\n",
    "print(d)"
   ]
  },
  {
   "cell_type": "code",
   "execution_count": 10,
   "metadata": {},
   "outputs": [
    {
     "name": "stdout",
     "output_type": "stream",
     "text": [
      "<class 'str'>\n"
     ]
    },
    {
     "data": {
      "text/plain": [
       "2359025430744"
      ]
     },
     "execution_count": 10,
     "metadata": {},
     "output_type": "execute_result"
    }
   ],
   "source": [
    "x='write'\n",
    "print(type(x))\n",
    "id(x)"
   ]
  },
  {
   "cell_type": "code",
   "execution_count": 11,
   "metadata": {},
   "outputs": [
    {
     "name": "stdout",
     "output_type": "stream",
     "text": [
      "<class 'int'>\n"
     ]
    },
    {
     "data": {
      "text/plain": [
       "140720781382384"
      ]
     },
     "execution_count": 11,
     "metadata": {},
     "output_type": "execute_result"
    }
   ],
   "source": [
    "x=254\n",
    "print(type(x))\n",
    "id(x)"
   ]
  },
  {
   "cell_type": "code",
   "execution_count": 12,
   "metadata": {},
   "outputs": [
    {
     "name": "stdout",
     "output_type": "stream",
     "text": [
      "95.42587685278995\n"
     ]
    }
   ],
   "source": [
    "#半徑為4.5高度為4.5的圓錐體面積為何\n",
    "import math\n",
    "print((4.5*4.5*math.pi*4.5)/3)"
   ]
  },
  {
   "cell_type": "code",
   "execution_count": 13,
   "metadata": {},
   "outputs": [
    {
     "name": "stdout",
     "output_type": "stream",
     "text": [
      "5.333333333333333\n",
      "5\n",
      "1\n"
     ]
    }
   ],
   "source": [
    "x=16\n",
    "y=3\n",
    "print(x/y)\n",
    "print(x//y) #求商\n",
    "print(x%y) #求餘數"
   ]
  },
  {
   "cell_type": "code",
   "execution_count": 14,
   "metadata": {},
   "outputs": [
    {
     "name": "stdout",
     "output_type": "stream",
     "text": [
      "True\n",
      "False\n",
      "10\n"
     ]
    }
   ],
   "source": [
    "#關西運算\n",
    "x=10\n",
    "print(20==20)\n",
    "y=20\n",
    "print(x==y)\n",
    "print(x)"
   ]
  },
  {
   "cell_type": "code",
   "execution_count": 16,
   "metadata": {},
   "outputs": [
    {
     "name": "stdout",
     "output_type": "stream",
     "text": [
      "True\n"
     ]
    }
   ],
   "source": [
    "#級聯比較\n",
    "a,b,c=10,20,30\n",
    "print(a<=b<=c)"
   ]
  },
  {
   "cell_type": "code",
   "execution_count": 17,
   "metadata": {},
   "outputs": [
    {
     "name": "stdout",
     "output_type": "stream",
     "text": [
      "0.0015926269999999576\n"
     ]
    }
   ],
   "source": [
    "x=3.141592627\n",
    "print(x-3.14) #比正確之值略小"
   ]
  },
  {
   "cell_type": "code",
   "execution_count": 18,
   "metadata": {},
   "outputs": [
    {
     "name": "stdout",
     "output_type": "stream",
     "text": [
      "False\n",
      "True\n",
      "True\n"
     ]
    }
   ],
   "source": [
    "y=2010\n",
    "print(y%4==0 and y%100!=0 or y%400==0)\n",
    "y=2012\n",
    "print(y%4==0 and y%100!=0 or y%400==0)\n",
    "y=2000\n",
    "print(y%4==0 and y%100!=0 or y%400==0)"
   ]
  },
  {
   "cell_type": "code",
   "execution_count": 19,
   "metadata": {},
   "outputs": [
    {
     "name": "stdout",
     "output_type": "stream",
     "text": [
      "12.5\n",
      "123\n",
      "123.0\n",
      "The value of x is 32.5and y is 40000\n",
      "The value of x is 32.5and y is 40000\n"
     ]
    }
   ],
   "source": [
    "#型態轉換\n",
    "x=12\n",
    "y=float(x)+0.5\n",
    "print(y)\n",
    "print(int('123'))\n",
    "print(float('123'))\n",
    "x=10*3.25 #32.5\n",
    "y=200*200 #40000\n",
    "s='The value of x is '+str(x)+' and y is '+str(y)\n",
    "s1='The value of x is '+repr(x)+' and y is '+repr(y)\n",
    "print(s)\n",
    "print(s1)"
   ]
  },
  {
   "cell_type": "code",
   "execution_count": 22,
   "metadata": {},
   "outputs": [
    {
     "name": "stdout",
     "output_type": "stream",
     "text": [
      "3.141592653589793\n",
      "8.0\n",
      "26.423892221536985\n",
      "5.0\n"
     ]
    }
   ],
   "source": [
    "#非內痔模組\n",
    "import math\n",
    "print(math.pi)\n",
    "print(math.pow(2,3))\n",
    "print(8.3*10.58*math.sin(37.0/180*math.pi)/2)\n",
    "print(math.sqrt(25))  "
   ]
  },
  {
   "cell_type": "code",
   "execution_count": 24,
   "metadata": {},
   "outputs": [
    {
     "name": "stdout",
     "output_type": "stream",
     "text": [
      "請輸入半徑:10\n",
      "園面積為: 314.1592653589793\n"
     ]
    }
   ],
   "source": [
    "#算園面積\n",
    "import math\n",
    "r=input(\"請輸入半徑:\")\n",
    "area=float(r)*float(r)*math.pi\n",
    "print(\"園面積為:\",area)"
   ]
  },
  {
   "cell_type": "code",
   "execution_count": 1,
   "metadata": {},
   "outputs": [
    {
     "ename": "SyntaxError",
     "evalue": "invalid syntax (<ipython-input-1-b2a59dc2dc6c>, line 3)",
     "output_type": "error",
     "traceback": [
      "\u001b[1;36m  File \u001b[1;32m\"<ipython-input-1-b2a59dc2dc6c>\"\u001b[1;36m, line \u001b[1;32m3\u001b[0m\n\u001b[1;33m    list: [1.2.3]\u001b[0m\n\u001b[1;37m               ^\u001b[0m\n\u001b[1;31mSyntaxError\u001b[0m\u001b[1;31m:\u001b[0m invalid syntax\n"
     ]
    }
   ],
   "source": [
    "#python物件\n",
    "list, tuple, dict, sets\n",
    "list: [1.2.3]\n",
    "tuple:(1, 2, 3) 不能改變其值\n",
    "dict:{1:'apple', 2:'banana', 3:'orange'}\n",
    "sets:{apple,banana,orange}"
   ]
  },
  {
   "cell_type": "code",
   "execution_count": 2,
   "metadata": {},
   "outputs": [
    {
     "name": "stdout",
     "output_type": "stream",
     "text": [
      "[1, 2, 3]\n",
      "python\n",
      "['python', 'js', 'SQL', 'java']\n"
     ]
    }
   ],
   "source": [
    "#List串列\n",
    "my_list0 =[1,2,3]\n",
    "print(my_list0)\n",
    "my_list1 = ['python','js','SQL']\n",
    "print(my_list1[0])\n",
    "my_list1.append('java')\n",
    "print(my_list1)"
   ]
  },
  {
   "cell_type": "code",
   "execution_count": 3,
   "metadata": {},
   "outputs": [
    {
     "name": "stdout",
     "output_type": "stream",
     "text": [
      "5\n",
      "6\n"
     ]
    }
   ],
   "source": [
    "my_list2=['c#','python','js','SQL','java']\n",
    "#List長度\n",
    "print(len(my_list2))\n",
    "print(len(my_list2[1]))"
   ]
  },
  {
   "cell_type": "code",
   "execution_count": 4,
   "metadata": {},
   "outputs": [
    {
     "name": "stdout",
     "output_type": "stream",
     "text": [
      "['c#', 'python', 'SQL', 'java']\n",
      "['python', 'SQL', 'java']\n",
      "['python', 'SQL']\n"
     ]
    }
   ],
   "source": [
    "#List刪除\n",
    "my_list3=['c#','python','js','SQL','java']\n",
    "my_list3.remove('js') #刪除某特定物件\n",
    "print(my_list3)\n",
    "del my_list3[0] #刪除某特定位置的物件\n",
    "print(my_list3)\n",
    "del my_list3[-1] #-1是指從最後數來第一個位置\n",
    "print(my_list3)"
   ]
  },
  {
   "cell_type": "code",
   "execution_count": 5,
   "metadata": {},
   "outputs": [
    {
     "name": "stdout",
     "output_type": "stream",
     "text": [
      "False\n"
     ]
    }
   ],
   "source": [
    "#檢查是否存在\n",
    "print('java' in ['python','js','c#'])"
   ]
  },
  {
   "cell_type": "code",
   "execution_count": 6,
   "metadata": {},
   "outputs": [
    {
     "name": "stdout",
     "output_type": "stream",
     "text": [
      "[1, 2, 1, 2, 1, 2, 1, 2, 1, 2]\n"
     ]
    }
   ],
   "source": [
    "#串列的重複\n",
    "a=[1,2]\n",
    "print(a*5)"
   ]
  },
  {
   "cell_type": "code",
   "execution_count": 9,
   "metadata": {},
   "outputs": [
    {
     "name": "stdout",
     "output_type": "stream",
     "text": [
      "[1, 2, 3]\n",
      "[1, 3, 5, 7, 9]\n",
      "[1, 2, 3, 4, 5, 6, 7]\n",
      "7\n",
      "1\n",
      "0\n",
      "1\n"
     ]
    }
   ],
   "source": [
    "#串列取值\n",
    "a=[1,2,3,4,5,6,7,8,9]\n",
    "b=a[0:3] #包含0，但不包含3\n",
    "print(b)\n",
    "c=a[0:9:2] #間隔取值，[開始:結束:間隔]\n",
    "print(c)\n",
    "del a[7:9]\n",
    "print(a)\n",
    "print(max(a)) #最大值\n",
    "print(min(a)) #最小值\n",
    "print(a.index(1)) #1出現的索引值\n",
    "print(a.count(1)) #1出現的次數"
   ]
  },
  {
   "cell_type": "code",
   "execution_count": 10,
   "metadata": {},
   "outputs": [
    {
     "name": "stdout",
     "output_type": "stream",
     "text": [
      "[1, 2, 3, 4, 5, 6, 7]\n",
      "[7, 6, 5, 4, 3, 2, 1]\n",
      "[1, 2, 3, 4, 5, 6, 7]\n"
     ]
    }
   ],
   "source": [
    "print(a)\n",
    "a.reverse() #串列反轉\n",
    "print(a)\n",
    "a.sort() #串列排序\n",
    "print(a)"
   ]
  },
  {
   "cell_type": "code",
   "execution_count": 11,
   "metadata": {},
   "outputs": [
    {
     "name": "stdout",
     "output_type": "stream",
     "text": [
      "123\n",
      "abc\n",
      "[111, 222]\n",
      "222\n"
     ]
    }
   ],
   "source": [
    "a=[123,'abc',[111,222],[333,444]]\n",
    "print(a[0])\n",
    "print(a[1])\n",
    "print(a[2])\n",
    "print(a[2][1])"
   ]
  },
  {
   "cell_type": "code",
   "execution_count": 12,
   "metadata": {},
   "outputs": [
    {
     "name": "stdout",
     "output_type": "stream",
     "text": [
      "[111, 222, 333, 444, 555, 666]\n"
     ]
    }
   ],
   "source": [
    "a=[111,222]+[333,444]+[555,666]\n",
    "print(a)"
   ]
  },
  {
   "cell_type": "code",
   "execution_count": 13,
   "metadata": {},
   "outputs": [
    {
     "name": "stdout",
     "output_type": "stream",
     "text": [
      "milk\n",
      "egg\n",
      "coffee\n",
      "watermelon\n"
     ]
    }
   ],
   "source": [
    "#串列list常用在for迴圈\n",
    "shoplist =['milk','egg','coffee','watermelon']\n",
    "for item in shoplist:\n",
    "    print(item)"
   ]
  },
  {
   "cell_type": "markdown",
   "metadata": {},
   "source": [
    "#tuple(元組)tuple的元素不准新增、刪除或修改"
   ]
  },
  {
   "cell_type": "code",
   "execution_count": 1,
   "metadata": {},
   "outputs": [
    {
     "name": "stdout",
     "output_type": "stream",
     "text": [
      "<class 'list'>\n",
      "<class 'tuple'>\n",
      "('python', 'js', 'c#')\n"
     ]
    }
   ],
   "source": [
    "a_list = ['python','js','c#']\n",
    "a_tuple = ('python','js','c#')\n",
    "b_tuple = tuple(a_list)\n",
    "print(type(a_list))\n",
    "print(type(a_tuple))\n",
    "print(b_tuple)"
   ]
  },
  {
   "cell_type": "code",
   "execution_count": 2,
   "metadata": {},
   "outputs": [
    {
     "name": "stdout",
     "output_type": "stream",
     "text": [
      "(111, 222, 333)\n",
      "<class 'tuple'>\n"
     ]
    }
   ],
   "source": [
    "c_tuple =111,222,333 #c_tuple =(111,222,333)\n",
    "print(c_tuple)\n",
    "print(type(c_tuple))"
   ]
  },
  {
   "cell_type": "markdown",
   "metadata": {},
   "source": [
    "dict(字典-dictionary) 帶有見值(key)的list"
   ]
  },
  {
   "cell_type": "code",
   "execution_count": 4,
   "metadata": {},
   "outputs": [
    {
     "name": "stdout",
     "output_type": "stream",
     "text": [
      "python\n",
      "python\n",
      "python\n"
     ]
    }
   ],
   "source": [
    "a_list = ['python','js','c#']\n",
    "a_dict = {0:'python',1:'js',2:'c#'}\n",
    "print(a_list[0])\n",
    "print(a_dict[0])\n",
    "b_dict={'1st':'python','2nd':'js','3rd':'c#'}\n",
    "print(b_dict['1st'])"
   ]
  },
  {
   "cell_type": "code",
   "execution_count": null,
   "metadata": {},
   "outputs": [],
   "source": []
  }
 ],
 "metadata": {
  "kernelspec": {
   "display_name": "Python 3",
   "language": "python",
   "name": "python3"
  },
  "language_info": {
   "codemirror_mode": {
    "name": "ipython",
    "version": 3
   },
   "file_extension": ".py",
   "mimetype": "text/x-python",
   "name": "python",
   "nbconvert_exporter": "python",
   "pygments_lexer": "ipython3",
   "version": "3.7.1"
  }
 },
 "nbformat": 4,
 "nbformat_minor": 2
}
